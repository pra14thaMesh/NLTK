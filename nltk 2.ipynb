{
 "cells": [
  {
   "cell_type": "code",
   "execution_count": 39,
   "metadata": {
    "scrolled": true
   },
   "outputs": [
    {
     "name": "stdout",
     "output_type": "stream",
     "text": [
      "enjoying or showing or marked by joy or pleasure\n",
      "['a happy smile', 'spent many happy days on the beach', 'a happy marriage']\n"
     ]
    }
   ],
   "source": [
    "# get synonyms\n",
    "\n",
    "from nltk.corpus import wordnet\n",
    " \n",
    "syn = wordnet.synsets(\"happy\")\n",
    " \n",
    "print(syn[0].definition())\n",
    " \n",
    "print(syn[0].examples())\n"
   ]
  },
  {
   "cell_type": "code",
   "execution_count": 40,
   "metadata": {},
   "outputs": [
    {
     "name": "stdout",
     "output_type": "stream",
     "text": [
      "beauti\n"
     ]
    }
   ],
   "source": [
    "# stemming\n",
    "# Word stemming means removing affixes from words and return the root word\n",
    "\n",
    "from nltk.stem import PorterStemmer\n",
    " \n",
    "stemmer = PorterStemmer()\n",
    " \n",
    "print(stemmer.stem('beautiful'))\n"
   ]
  },
  {
   "cell_type": "code",
   "execution_count": 55,
   "metadata": {},
   "outputs": [
    {
     "name": "stdout",
     "output_type": "stream",
     "text": [
      "ear\n"
     ]
    }
   ],
   "source": [
    "print(stemmer.stem('earring'))  #does not return the correct word"
   ]
  },
  {
   "cell_type": "code",
   "execution_count": 58,
   "metadata": {},
   "outputs": [
    {
     "name": "stdout",
     "output_type": "stream",
     "text": [
      "earr\n"
     ]
    }
   ],
   "source": [
    "from nltk.stem import RegexpStemmer\n",
    "\n",
    "regexp=RegexpStemmer(\"ing\")\n",
    "\n",
    "print(regexp.stem(\"earring\"))"
   ]
  },
  {
   "cell_type": "code",
   "execution_count": 54,
   "metadata": {
    "scrolled": true
   },
   "outputs": [
    {
     "name": "stdout",
     "output_type": "stream",
     "text": [
      "earring\n"
     ]
    }
   ],
   "source": [
    "#lemmatizing\n",
    "\n",
    "from nltk.stem import WordNetLemmatizer\n",
    " \n",
    "lemmatizer = WordNetLemmatizer()\n",
    " \n",
    "print(lemmatizer.lemmatize(\"earring\"))"
   ]
  },
  {
   "cell_type": "code",
   "execution_count": 59,
   "metadata": {},
   "outputs": [
    {
     "name": "stdout",
     "output_type": "stream",
     "text": [
      "['Python', 'is', 'a', 'high-level', 'general-purpose', 'programming', 'language', 'How', 'are', 'you', 'Ms', 'Nikita', 'Programming', 'is', 'fun']\n",
      "[Sentence(\"Python is a high-level, general-purpose programming language.\"), Sentence(\"How are you Ms. Nikita?\"), Sentence(\"Programming is fun.\")]\n"
     ]
    }
   ],
   "source": [
    "#pip install -U textblob\n",
    "\n",
    "from textblob import TextBlob\n",
    "\n",
    "#creating a textblob\n",
    "mytext = TextBlob(\"Python is a high-level, general-purpose programming language. \\\n",
    "How are you Ms. Nikita? Programming is fun.\")\n",
    "\n",
    "print(mytext.words)\n",
    "print(mytext.sentences)"
   ]
  },
  {
   "cell_type": "code",
   "execution_count": 61,
   "metadata": {
    "collapsed": true
   },
   "outputs": [
    {
     "data": {
      "text/plain": [
       "[WordList(['Python', 'is', 'a', 'high-level', 'general-purpose']),\n",
       " WordList(['is', 'a', 'high-level', 'general-purpose', 'programming']),\n",
       " WordList(['a', 'high-level', 'general-purpose', 'programming', 'language']),\n",
       " WordList(['high-level', 'general-purpose', 'programming', 'language', 'How']),\n",
       " WordList(['general-purpose', 'programming', 'language', 'How', 'are']),\n",
       " WordList(['programming', 'language', 'How', 'are', 'you']),\n",
       " WordList(['language', 'How', 'are', 'you', 'Ms']),\n",
       " WordList(['How', 'are', 'you', 'Ms', 'Nikita']),\n",
       " WordList(['are', 'you', 'Ms', 'Nikita', 'Programming']),\n",
       " WordList(['you', 'Ms', 'Nikita', 'Programming', 'is']),\n",
       " WordList(['Ms', 'Nikita', 'Programming', 'is', 'fun'])]"
      ]
     },
     "execution_count": 61,
     "metadata": {},
     "output_type": "execute_result"
    }
   ],
   "source": [
    "# n gramming\n",
    "\n",
    "mytext.ngrams(n=5)\n"
   ]
  },
  {
   "cell_type": "code",
   "execution_count": 62,
   "metadata": {},
   "outputs": [
    {
     "name": "stdout",
     "output_type": "stream",
     "text": [
      "I have good spelling! I feel amazing!!\n"
     ]
    }
   ],
   "source": [
    "# spelling correction\n",
    "\n",
    "b = TextBlob(\"I havv goood speling! I feel amazinggg!!\")\n",
    "print(b.correct())"
   ]
  },
  {
   "cell_type": "code",
   "execution_count": 64,
   "metadata": {},
   "outputs": [
    {
     "data": {
      "text/plain": [
       "Sentiment(polarity=0.0, subjectivity=0.0)"
      ]
     },
     "execution_count": 64,
     "metadata": {},
     "output_type": "execute_result"
    }
   ],
   "source": [
    "#sentiment analysis\n",
    "\n",
    "#text = TextBlob(\"I hate travelling\")\n",
    "text = TextBlob(\"Apples are red\")\n",
    "text.sentiment"
   ]
  },
  {
   "cell_type": "code",
   "execution_count": 65,
   "metadata": {
    "scrolled": true
   },
   "outputs": [
    {
     "name": "stdout",
     "output_type": "stream",
     "text": [
      "Sentiment(polarity=0.19, subjectivity=0.8)\n"
     ]
    }
   ],
   "source": [
    "# word tokenize\n",
    "\n",
    "mytext = TextBlob(\"\"\"Life is beautiful. \n",
    "                  Enjoy the life you have before its too late. \n",
    "                  \n",
    "                  Travel a lot and make unforgettable memories. \n",
    "                  But then I hate travelling\"\"\")\n",
    "#mytext.sentences\n",
    "print(mytext.sentiment)"
   ]
  },
  {
   "cell_type": "code",
   "execution_count": 66,
   "metadata": {
    "collapsed": true
   },
   "outputs": [
    {
     "name": "stdout",
     "output_type": "stream",
     "text": [
      "Sentiment(polarity=0.85, subjectivity=1.0)\n",
      "Sentiment(polarity=0.05000000000000002, subjectivity=0.55)\n",
      "Sentiment(polarity=0.8, subjectivity=1.0)\n",
      "Sentiment(polarity=-0.8, subjectivity=0.9)\n"
     ]
    }
   ],
   "source": [
    "for sentence in mytext.sentences:\n",
    "    print(sentence.sentiment)"
   ]
  },
  {
   "cell_type": "code",
   "execution_count": 67,
   "metadata": {},
   "outputs": [
    {
     "name": "stdout",
     "output_type": "stream",
     "text": [
      "[('We', 'PRON'), ('won', 'VERB'), ('the', 'DET'), ('match', 'NOUN'), ('because', 'ADP'), ('we', 'PRON'), ('played', 'VERB'), ('well', 'ADV'), ('.', '.')]\n"
     ]
    }
   ],
   "source": [
    "from nltk.tag import pos_tag\n",
    "from nltk.tokenize import word_tokenize\n",
    "\n",
    "sent = \"We won the match because we played well.\"\n",
    "text= pos_tag(word_tokenize(sent),tagset=\"universal\",lang='eng')\n",
    "print(text)"
   ]
  },
  {
   "cell_type": "code",
   "execution_count": 68,
   "metadata": {
    "collapsed": true
   },
   "outputs": [
    {
     "name": "stdout",
     "output_type": "stream",
     "text": [
      "$: dollar\n",
      "    $ -$ --$ A$ C$ HK$ M$ NZ$ S$ U.S.$ US$\n",
      "'': closing quotation mark\n",
      "    ' ''\n",
      "(: opening parenthesis\n",
      "    ( [ {\n",
      "): closing parenthesis\n",
      "    ) ] }\n",
      ",: comma\n",
      "    ,\n",
      "--: dash\n",
      "    --\n",
      ".: sentence terminator\n",
      "    . ! ?\n",
      ":: colon or ellipsis\n",
      "    : ; ...\n",
      "CC: conjunction, coordinating\n",
      "    & 'n and both but either et for less minus neither nor or plus so\n",
      "    therefore times v. versus vs. whether yet\n",
      "CD: numeral, cardinal\n",
      "    mid-1890 nine-thirty forty-two one-tenth ten million 0.5 one forty-\n",
      "    seven 1987 twenty '79 zero two 78-degrees eighty-four IX '60s .025\n",
      "    fifteen 271,124 dozen quintillion DM2,000 ...\n",
      "DT: determiner\n",
      "    all an another any both del each either every half la many much nary\n",
      "    neither no some such that the them these this those\n",
      "EX: existential there\n",
      "    there\n",
      "FW: foreign word\n",
      "    gemeinschaft hund ich jeux habeas Haementeria Herr K'ang-si vous\n",
      "    lutihaw alai je jour objets salutaris fille quibusdam pas trop Monte\n",
      "    terram fiche oui corporis ...\n",
      "IN: preposition or conjunction, subordinating\n",
      "    astride among uppon whether out inside pro despite on by throughout\n",
      "    below within for towards near behind atop around if like until below\n",
      "    next into if beside ...\n",
      "JJ: adjective or numeral, ordinal\n",
      "    third ill-mannered pre-war regrettable oiled calamitous first separable\n",
      "    ectoplasmic battery-powered participatory fourth still-to-be-named\n",
      "    multilingual multi-disciplinary ...\n",
      "JJR: adjective, comparative\n",
      "    bleaker braver breezier briefer brighter brisker broader bumper busier\n",
      "    calmer cheaper choosier cleaner clearer closer colder commoner costlier\n",
      "    cozier creamier crunchier cuter ...\n",
      "JJS: adjective, superlative\n",
      "    calmest cheapest choicest classiest cleanest clearest closest commonest\n",
      "    corniest costliest crassest creepiest crudest cutest darkest deadliest\n",
      "    dearest deepest densest dinkiest ...\n",
      "LS: list item marker\n",
      "    A A. B B. C C. D E F First G H I J K One SP-44001 SP-44002 SP-44005\n",
      "    SP-44007 Second Third Three Two * a b c d first five four one six three\n",
      "    two\n",
      "MD: modal auxiliary\n",
      "    can cannot could couldn't dare may might must need ought shall should\n",
      "    shouldn't will would\n",
      "NN: noun, common, singular or mass\n",
      "    common-carrier cabbage knuckle-duster Casino afghan shed thermostat\n",
      "    investment slide humour falloff slick wind hyena override subhumanity\n",
      "    machinist ...\n",
      "NNP: noun, proper, singular\n",
      "    Motown Venneboerger Czestochwa Ranzer Conchita Trumplane Christos\n",
      "    Oceanside Escobar Kreisler Sawyer Cougar Yvette Ervin ODI Darryl CTCA\n",
      "    Shannon A.K.C. Meltex Liverpool ...\n",
      "NNPS: noun, proper, plural\n",
      "    Americans Americas Amharas Amityvilles Amusements Anarcho-Syndicalists\n",
      "    Andalusians Andes Andruses Angels Animals Anthony Antilles Antiques\n",
      "    Apache Apaches Apocrypha ...\n",
      "NNS: noun, common, plural\n",
      "    undergraduates scotches bric-a-brac products bodyguards facets coasts\n",
      "    divestitures storehouses designs clubs fragrances averages\n",
      "    subjectivists apprehensions muses factory-jobs ...\n",
      "PDT: pre-determiner\n",
      "    all both half many quite such sure this\n",
      "POS: genitive marker\n",
      "    ' 's\n",
      "PRP: pronoun, personal\n",
      "    hers herself him himself hisself it itself me myself one oneself ours\n",
      "    ourselves ownself self she thee theirs them themselves they thou thy us\n",
      "PRP$: pronoun, possessive\n",
      "    her his mine my our ours their thy your\n",
      "RB: adverb\n",
      "    occasionally unabatingly maddeningly adventurously professedly\n",
      "    stirringly prominently technologically magisterially predominately\n",
      "    swiftly fiscally pitilessly ...\n",
      "RBR: adverb, comparative\n",
      "    further gloomier grander graver greater grimmer harder harsher\n",
      "    healthier heavier higher however larger later leaner lengthier less-\n",
      "    perfectly lesser lonelier longer louder lower more ...\n",
      "RBS: adverb, superlative\n",
      "    best biggest bluntest earliest farthest first furthest hardest\n",
      "    heartiest highest largest least less most nearest second tightest worst\n",
      "RP: particle\n",
      "    aboard about across along apart around aside at away back before behind\n",
      "    by crop down ever fast for forth from go high i.e. in into just later\n",
      "    low more off on open out over per pie raising start teeth that through\n",
      "    under unto up up-pp upon whole with you\n",
      "SYM: symbol\n",
      "    % & ' '' ''. ) ). * + ,. < = > @ A[fj] U.S U.S.S.R * ** ***\n",
      "TO: \"to\" as preposition or infinitive marker\n",
      "    to\n",
      "UH: interjection\n",
      "    Goodbye Goody Gosh Wow Jeepers Jee-sus Hubba Hey Kee-reist Oops amen\n",
      "    huh howdy uh dammit whammo shucks heck anyways whodunnit honey golly\n",
      "    man baby diddle hush sonuvabitch ...\n",
      "VB: verb, base form\n",
      "    ask assemble assess assign assume atone attention avoid bake balkanize\n",
      "    bank begin behold believe bend benefit bevel beware bless boil bomb\n",
      "    boost brace break bring broil brush build ...\n",
      "VBD: verb, past tense\n",
      "    dipped pleaded swiped regummed soaked tidied convened halted registered\n",
      "    cushioned exacted snubbed strode aimed adopted belied figgered\n",
      "    speculated wore appreciated contemplated ...\n",
      "VBG: verb, present participle or gerund\n",
      "    telegraphing stirring focusing angering judging stalling lactating\n",
      "    hankerin' alleging veering capping approaching traveling besieging\n",
      "    encrypting interrupting erasing wincing ...\n",
      "VBN: verb, past participle\n",
      "    multihulled dilapidated aerosolized chaired languished panelized used\n",
      "    experimented flourished imitated reunifed factored condensed sheared\n",
      "    unsettled primed dubbed desired ...\n",
      "VBP: verb, present tense, not 3rd person singular\n",
      "    predominate wrap resort sue twist spill cure lengthen brush terminate\n",
      "    appear tend stray glisten obtain comprise detest tease attract\n",
      "    emphasize mold postpone sever return wag ...\n",
      "VBZ: verb, present tense, 3rd person singular\n",
      "    bases reconstructs marks mixes displeases seals carps weaves snatches\n",
      "    slumps stretches authorizes smolders pictures emerges stockpiles\n",
      "    seduces fizzes uses bolsters slaps speaks pleads ...\n",
      "WDT: WH-determiner\n",
      "    that what whatever which whichever\n",
      "WP: WH-pronoun\n",
      "    that what whatever whatsoever which who whom whosoever\n",
      "WP$: WH-pronoun, possessive\n",
      "    whose\n",
      "WRB: Wh-adverb\n",
      "    how however whence whenever where whereby whereever wherein whereof why\n",
      "``: opening quotation mark\n",
      "    ` ``\n"
     ]
    }
   ],
   "source": [
    "nltk.help.upenn_tagset()"
   ]
  },
  {
   "cell_type": "code",
   "execution_count": 73,
   "metadata": {
    "collapsed": true
   },
   "outputs": [
    {
     "name": "stdout",
     "output_type": "stream",
     "text": [
      "GPE Lemmatization\n",
      "GPE Lemmatization\n",
      "GPE Text\n",
      "PERSON Stemming\n",
      "GPE Lemmatization\n",
      "GPE Stemming\n"
     ]
    }
   ],
   "source": [
    "#NER\n",
    "\n",
    "#my_sent = \"WASHINGTON -- In the wake of a string of abuses by New York police officers in the 1990s, Loretta E. Lynch, the top federal prosecutor in Brooklyn, spoke forcefully about the pain of a broken trust that African-Americans felt and said the responsibility for repairing generations of miscommunication and mistrust fell to law enforcement.\"\n",
    "#my_sent= \"In 1999, Vajpayee laid the foundation for the GoldenQuadrilateralHighway project, which would link four major cities: Delhi, Mumbai, Chennai and Kolkata.\"\n",
    "#my_sent=\"“Indians is a football country now,” FIFA president Giani Infantino declared after arriving here to chair the FIFA Council meeting on Friday and attend the U-17 World Cup final.\"\n",
    "my_sent=\"\"\"Lemmatization is the process of grouping together the different inflected forms of a word so they can be analysed as a single item. Lemmatization is similar to stemming but it brings context to the words. So it links words with similar meaning to one word.\n",
    "\n",
    "Text preprocessing includes both Stemming as well as Lemmatization. Many times people find these two terms confusing. Some treat these two as same. Actually, lemmatization is preferred over Stemming because lemmatization does morphological analysis of the words.\n",
    "\n",
    "Applications of lemmatization are:\n",
    "\n",
    "Used in comprehensive retrieval systems like search engines.\n",
    "Used in compact indexing\"\"\"\n",
    "\n",
    "for sent in nltk.sent_tokenize(my_sent):\n",
    "    for chunk in nltk.ne_chunk(nltk.pos_tag(nltk.word_tokenize(sent))):\n",
    "        if hasattr(chunk, 'label'):\n",
    "            print(chunk.label(), ' '.join(c[0] for c in chunk))"
   ]
  },
  {
   "cell_type": "markdown",
   "metadata": {},
   "source": [
    "# counting no. of POS"
   ]
  },
  {
   "cell_type": "code",
   "execution_count": 78,
   "metadata": {
    "collapsed": true
   },
   "outputs": [
    {
     "name": "stdout",
     "output_type": "stream",
     "text": [
      "Total number of adjectives =  274\n",
      "Total number of nouns =  1037\n",
      "Total number of verbs =  377\n",
      "Total number of determinants =  106\n",
      "{'days', 'Welcome', 'xhebenkewu_9920', 'jhun_hunyo', '//t.co/s7y4Ys5JeU', '//t.co/rolE3ZCL97', 'kevinthewhippet', 'Festival', 'grades', 'greetings', 'lt', 'ice', 'job', 'HeritageSilver', 'Mui', 'brynybrath', 'change', 'waters', 'Doug_Laney', 'TomParker', 'yesterday', 'thatguycalledP', 'Visit', 'entries', 'lot', 'rossbreadmore', 'weekend', 'Centre', 'TOLOGOOO', 'CLARAROJASG', 'rest', 'PressRelease', 'line-up', 'address', 'cusp', 'crustyolddeen', 'BABY', 'shout', 'Tripathi', 'i', 'product', 'ClearlyArticle', 'BroadcastBeat', 'A', 'DM', 'intlboost', 'Hello', 'Mein', 'FRTechStartups', 'bed', 'SammyWilk', 'DC_ARVSgt', 'uptommosass', 'islands', 'Ireland', 'Contact', '//t.co/HnbinH35ES', 'Impatientraider', 'InSunWeTrust', 'yours', 'OJBJ', 'MartyRafenstein', 'press', 'Station', 'groovinshawn', 'FollowFriday', 'CarcassDrop', 'x45', 'im', 'Yorkshire', 'compexly', 'durooooooo', '_lafontpresse', 'Lamb2ja', 'Opportunities', '.Selfies', \"'Stats\", 'love', 'maphisa301', 'EmWilliamsCCCU', 'funcionar', 'take', 'implies', 'Yes', 'message', 'x46', 'beautiful', 'ETL', 'Chat', \"'I\", 'kurtas', 'delays', '//t.co/QMNz62OEuc', 'ZaynZaynmalik30', '//t.co/RCvcYYO0Iq', 'Mburu__', 'Bayan', 'century', 'tk_kjk_kndr', 'Cecilie_Hell', 'VisitJordan', 'GOD', 'UCL', 'community', 'tuna', 'razi', 'Right', 'HushedCallWithFraydoe', 'arsenalnewsasit', 'timing', 'ARROWwriters', 'nudes', 'Mama', 'ChiAB2486', 'guys', '//t.co/gsaaxNpR8u', 'train', 'LittleMix', 'midnight', 'Elemaaan', '//t.co/6prugvmOuC.', 'friends', 'feeling', 'Marty', 'Josh', '//t.co/smyYriipxI', '//t.co/EsCc9QhLob', 'HushedPinWithSammy', 'Mish23615351', 'SO', 'lols', 'superninjaalan', 'jjulieredburn', 'CCI_inter', 'CheesyDelights', 'CowokAddict', 'hehehehe', 'Bosslogic', 'blog', 'murtishaw', 'GiveItUp', 'fb', 'follower', 'anyone', 'film', 'friend', 'HushedApp', 'yummmm', 'HostMyOffice', 'team', 'R2D2', \"'thanks\", 'shorts', 'Mom', 'France_Espana', 'hour', 'DespiteOfficial', 'u', 'U', 'APaulicand', 'GONDOOO', 'everyone', '@', 'MyBusiness_Plan', 'Cheung', 'plans', 'Perfect', 'Samantha', 'buy', 'IS', 'MacatangayApril', 'AxeRade', '//t.co/JmpkZP2DaI', 'al', '..', 'series', 'amp', 'Come', 'vacation', 'KalinWhite', '_Fraydoe', 'concert', 'UKBusinessLunch', 'subsidy', 'Ca', 'boukendreamer', 'help', 'BarsAndMelody', 'well', 'Tivipro', '//t.co/of3DyOzML0', 'Woohoo', 'Got', 'tomatoes', 'spigranty', 'Warsaw', '//t.co/DvBssHbrfx', 'Send', 'TeamTall17', 'kidding', \"'i\", 'chance', '🍭', 'PallaviRuhail', 'lunch', 'BAM', 'phela', 'Bracken_Nelson', 'LWWF', 'Cjlopez21', 'MasaanToday', 'Eric_FLE', 'Pity', 'music', 'advice', 'GH813600', 'TBS', 'Jana7380', 'talk', 'soundtrack', 'thing', 'VodkaBlond', 'MichelBauza', 'mark', 'amisharanka95', '%', 'Juleeyaanaa', 'come', 'invite', '.-', 'Clazziebritchas', 'country', 'Line-up', 'track', 'Twitter', 'Gym', 'influencers', '.Juicy', 'hatessuce32429', 'throwback', 'follow', 'johngutierrez1', 'A4', 'Luv', 'dope', '//t.co/rZgZtQ2fJT', 'haw', 'share', 'week', 'pointsolutions3', 'KFC_India', 'dennislami', 'Dicle_Aygur', 'fit', '//t.co/lKXZWXN1fb', 'station', 'Four', 'time', 'SpazzyTsukihara', 'conference', 'JacobWhitesides', 'SyreenAnne', 'Luke', 'girl', 'WSaleLove', 'HAHA', 'LOL', 'Well…', 'rozbabes', 'Inter', 'Hall11Kate', 'city', 'nsn_supplements', 'passing', '🚂', 'dannyprol', 'Thank', 'Wan', '☆', 'mins', 'Cassie_Spaniel', 'lol', '//t.co/p6K6SiH58a.', 'LoLEsportspedia', '//t.co/yzpfsMxUq0', 'Email', 'today', 'Z_Intl_Agency', 'Gatorade', 'WLAN', 'x43', 'Arsenal', 'emilybett', '//t.co/XzsOGaC4zK.', 'holmesjsamuel', 'YouTube', 'D', 'jnlazts', '//t.co/O5fjR7oEqk', 'imPastel', 'Railway', 'influencer', 'lets', 'bitdefender.com', 'gift', 'initiative', 'figure', 'y', 'NGourd', 'unfollowers', 'x123456789tine', 'bookmyshow', 'triangle', 'Scotland', 'Dum', 'shop', 'dayloladay', 'print', 'tinder', 'CONGRATS', 'x42', 'Shweta', 'KFCkitchentours', 'etc', 'Please', 'Good', 'morallosanthony', 'Event', 'digitalplace2be', 'CassTheTrainer', 'stage', 'Well', 'screenshot', 'conseilsmkg', 'bye', 'cream', 'Népal', 'Nez', 'TransworldBooks', 'gameplays', 'oil', '//t.co/HVVPhSYakA', 'Ritual', 'Earthlings', 'NO', 'Defense_gouv', 'CUTE', 'LauraRGallagher', 'nationalrailenq', 'NoshandQuaff', 'customers', 'release', 'forward', 'BhaktisBanter', 'email', 'MKa', 'one', '//t.co/OnVFhzt5fZ', 'Can', 'Treviso', 'Hi', 'Megan', 'TikoSD', 'https', 'speech', 'DD', 'hope', \"'Hello\", 'birthday', 'PuaMagasiva', 'Sexdate_gratis', 'Glad', 'Have', 'Lol', 'Love', 'care', 'fun', 'call', 'yaya', 'bit', 'Monica', 'RookieSenpai', '//t.co/kGfgawdHy9', 'etsy', 'AmericanOGrain', 'metalgear_jp', 'glasses', 'gas', \"'REAL\", 'zaynmalik', 'rqst', 'Nostalgia', 'world', 'basil', 'timezones', 'Dewsbury', 'West', \"'Grande\", 'twitch', 'home', 'AGNEZMO', 'KeithRParsons', 'Wo', 'JohnTarbet71', 'CathStaincliffe', 'gardens', 'hours', 'flesh', 'Chau', 'FIRDOZ', 'Might', 'dub', 'gculloty87', 'night', 'HappyBirthdayEmilyBett', 'Beginning', 'tylers', 'W', 'boxroomcrafts', 'PecomeP', 'Monday', 'po', 'Sampath', 'reglisse_menthe', 'InXpressCoAzur', 'traveler', 'Friend', 'xx', 'Indonesia', 'Follow', 'number', 'YasLarry', 'Feeling', 'France_Inte', 'NigelPWhittaker', 'oley', 'Big', 'T-shirts', 'hashtag', 'Mohapatra', 'sun', 'SyuhxdxTengku', '//t.co/DLDKLpeTAb', 'sssniperwolf', 'Obi', 'gooood', 'DCarsonCPA', 'Thanks', 'Sarah', 'MrCliveC', 'MandaScapinello', 'prince', 'thanks', 'name', 'FlipkartFashionFriday', 'parents', '_TheBunkerJL', 'Huge', 'Gculloty87', 'http', 'visit.', 'Mecastor01Mica', 'opportunity', 'com', 'mainedcm', 'Asia', '//t.co/oWBL11eQRY', 'D_Robert_Kelly', 'future', 'Locita', 'hologram', 'smh', 'stuff', '//t.co/TnHJD36yzf', 'IzywayLesExpats', 'mischievousness', \"y'all\", 'Text', 'WforWoman', 'LAfitnessUKhelp', 'Seasons', 'KU.', 'reason', 'agylyxa', 'Tulane', '//t.co/GLoCEIjGQQ', 'Al', 'conflict', 'p', 'PCDKirkwood', 'card', 'epic', 'LaMinx541', 'Im', 'COPS_President', 'Penthouse', 'arcadester', 'PeakYourMind', '//t.co/wx7yRrE7sV', 'triathletes', 'twentyonepilots', 'point', 'justinbieber', 'Scope', 'canals', 'ig', 'MY', 'InvataOnline', \"'Jgh\", 'CW_Arrow', 'side', 'jasoncreation', 'access', 'in-house', 'jamiefigsxx', 'engine', 'sights', 'MOO', 'supports', 'iPhone', 'Michelploria', 'cybelxxx', 's', 'Ram', 'life', 'Friday', 'Custom', '//t.co/EbZ0L2VENM', 'winner', 'sluttywife2', 'Likes', 'fix', 'TWBC_Business', 'Kojima_Hideo', 'imraina', 'Northern', 'Small', 'Edwards', 'SG', 'liv', 'accnt..', 'bestfriend', 'Kitchen', 'wishes', 'NewsDistribution', 'James', 'contest', 'Bath', 'thought', 'bitsy', 'smthng', 'kpop', 'jaann', 'AquaDesignGroup', 'results', 'Get', 'tick', 'luck', 'Yeah', 'Leia', 'izzkamilhalda', 'promise', 'Congratulations', 'okay', 'MISTY', 'oh', '//t.co/ul8MARDfhm', '//t.co/W6Dy130BV7', 'Jo', '*', 'look', 'songs', 'Job', 'jaimeemelanie_', 'drain', 'LucienneDiver', '//t.co/MhK3B3wOpQ', '//t.co/VaLVe8omdT', 'Whatsapp', 'DEW', 'BF_P2C', '//t.co/bJjeGIOOGU', 'cheers', 'FlashHayer', 'p.', 'cumshot', 'act', 'followers', 'profile', 'members', 'day', 'MyFrenchCity', 'yeahhh', 'OH', 'Jordan', 'ke7zum', 'Hey', 'morning', 'Sona', 'Milipol_Paris', 'distribution', 'line', 'layer', 'Katamari', 'lmaoo', 'video', '//t.co/cGViMHSINz', '//t.co/humtC1tr3I', '//t.co/RB8pMNgMEo.', 'charger', '//t.co/8XhjJb4jtH', 'Dream', 'tom', 'x', 'Andar', 'afternoon', 'ABNORMAL_ANA92', 'NIKKIERIOZZI', 'Joyster2012', 'house', 'warmup', 'Warm', 'SpanielHarry', 'something', 'MBandScott_', 'PKuchly57', 'HarNiLiZaLouis', 'mom', 'years', 'pros', 'BellisimoBella1', '//t.co/ipJ2yOiGet', '.XOXO', 'range', 'playlist', 'Gobigorgohome', 'stayfaboo', 'leisuremarkltd', 'God', 'someone', 'Kahfi', 'Larry', 'fr', 'picture', 'proud', 'jailbroken', 'gt', 'system'}\n"
     ]
    }
   ],
   "source": [
    "my_data=\"\"\"'#FollowFriday @France_Inte @PKuchly57 @Milipol_Paris for being top engaged members in my community this week :)'.\n",
    " '@Lamb2ja Hey James! How odd :/ Please call our Contact Centre on 02392441234 and we will be able to assist you :) Many thanks!'.\n",
    " '@DespiteOfficial we had a listen last night :) As You Bleed is an amazing track. When are you in Scotland?!'.\n",
    " '@97sides CONGRATS :)'.\n",
    " 'yeaaaah yippppy!!!  my accnt verified rqst has succeed got a blue tick mark on my fb profile :) in 15 days'.\n",
    " '@BhaktisBanter @PallaviRuhail This one is irresistible :)\\n#FlipkartFashionFriday http://t.co/EbZ0L2VENM'.\n",
    " \"We don't like to keep our lovely customers waiting for long! We hope you enjoy! Happy Friday! - LWWF :) https://t.co/smyYriipxI\".\n",
    " '@Impatientraider On second thought. there’s just not enough time for a DD :) But new shorts entering system. Sheep must be buying.'.\n",
    " 'Jgh . but we have to go to Bayan :D bye'.\n",
    " 'As an act of mischievousness. am calling the ETL layer of our in-house warehousing app Katamari.\\n\\nWell… as the name implies :p.'.\n",
    " '#FollowFriday @wncer1 @Defense_gouv for being top influencers in my community this week :)'.\n",
    " \"Who Wouldn't Love These Big....Juicy....Selfies :) - http://t.co/QVzjgd1uFo http://t.co/oWBL11eQRY\".\n",
    " '@Mish23615351  follow @jnlazts &amp; http://t.co/RCvcYYO0Iq follow u back :)'.\n",
    " \"@jjulieredburn Perfect. so you already know what's waiting for you :)\".\n",
    " 'Great new opportunity for junior triathletes aged 12 and 13 at the Gatorade series! Get your entries in :) http://t.co/of3DyOzML0'.\n",
    " 'Laying out a greetings card range for print today - love my job :-)'.\n",
    " \"Friend's lunch... yummmm :)\\n#Nostalgia #TBS #KU.\".\n",
    " \"@RookieSenpai @arcadester it is the id conflict thanks for the help :D here's the screenshot of it working\".\n",
    " '@oohdawg_ Hi liv :))'.\n",
    " 'Hello I need to know something can u fm me on Twitter?? — sure thing :) dm me x http://t.co/W6Dy130BV7'.\n",
    " '#FollowFriday @MBandScott_ @Eric_FLE @pointsolutions3 for being top new followers in my community this week :)'.\n",
    " \"@rossbreadmore I've heard the Four Seasons is pretty dope. Penthouse. obvs #Gobigorgohome\\nHave fun y'all :)\".\n",
    " '@gculloty87 Yeah I suppose she was lol! Chat in a bit just off out x :))'.\n",
    " 'Hello :) Get Youth Job Opportunities follow &gt;&gt; @tolajobjobs @maphisa301'.\n",
    " \"💅🏽💋 - :)))) haven't seen you in years\".\n",
    " '@Bosslogic @amellywood @CW_Arrow @ARROWwriters Thank you! :-)'.\n",
    " '@johngutierrez1 hope the rest of your night goes by quickly... I am off to bed... got my music fix and now it is time to dream  :)'.\n",
    " 'Spiritual Ritual Festival (Népal)\\nBeginning of Line-up :)\\nIt is left for the line-up (y)\\nSee more at:... http://t.co/QMNz62OEuc'.\n",
    " \"@ke7zum Hey Sarah! Send us an email at bitsy@bitdefender.com and we'll help you asap :)\".\n",
    " '@izzkamilhalda lols. :D'.\n",
    " 'MY kik - hatessuce32429 #kik #kikme #lgbt #tinder #nsfw #akua #cumshot :) http://t.co/TnHJD36yzf'.\n",
    " '@KalinWhite come to my house :)))))'.\n",
    " '#nsn_supplements. Effective press release distribution with results! :) [link removed] #PressRelease #NewsDistribution'.\n",
    " 'Hi BAM ! @BarsAndMelody \\nCan you follow my bestfriend @969Horan696 ? \\nShe loves you a lot :) \\nSee you in Warsaw &lt;3 \\nLove you &lt;3 x46'.\n",
    " 'everyone watch the documentary Earthlings on YouTube :-)'.\n",
    " '@jamiefigsxx  follow @jnlazts &amp; http://t.co/RCvcYYO0Iq follow u back :)'.\n",
    " '#FollowFriday @MichelBauza @InvataOnline for being top supports in my community this week :)'.\n",
    " 'buuuuuuuut oh well :-)'.\n",
    " '@leisuremarkltd @NoshandQuaff @aktarislam @keanebrands @HeritageSilver I am looking forward to visiting next week #letsgetmessy Jo :-)'.\n",
    " '@sehunshinedaily if it makes u feel better i never have nor will see anyone in kpop in the flesh :D'.\n",
    " '@Joyster2012 @CathStaincliffe Good for you. girl!! Best wishes :-)'.\n",
    " '@_Kimimi A great enough reason to listen to one epic soundtrack. :D'.\n",
    " '@AquaDesignGroup Thank you for the shout out. Have a great Friday :)'.\n",
    " 'I added a video to a @YouTube playlist http://t.co/yzpfsMxUq0 im back on twitch and today it going to be league :) - 1 / 4'.\n",
    " 'Would love to see you dear in #Jordan :) waiting you! @FIRDOZ  :) @VisitJordan @dannyprol'.\n",
    " '@ABNORMAL_ANA92 oh. okay :D thanks!'.\n",
    " '@sssniperwolf like how to fake gameplays ;) haha Im kidding. im kidding. You do good stuff :).'.\n",
    " '@dennislami @Dicle_Aygur. yeah exactly :)'.\n",
    " 'Our new product line is in our #etsy shop now! Check it out :) http://t.co/h8exCTLQxg #boxroomcrafts'.\n",
    " '@PeakYourMind I hope your vacation is going great! :D'.\n",
    " '@groovinshawn they are rechargeable and it normally comes with a charger when u buy it :)'.\n",
    " '#FollowFriday @France_Espana @reglisse_menthe @CCI_inter for being top engaged members in my community this week :)'.\n",
    " \"Well she's asleep and I have no one to talk to sooo someone text me :)\".\n",
    " \"@brynybrath @smallcappy Yes. I suppose. I bet he'll have a blue fit after hearing her speech today. Pity :-)\".\n",
    " 'Green gardens. midnight sun. beautiful canals dasvidaniya till next visit.:)'.\n",
    " '@KeithRParsons are you scouting SG for a future WLAN pros conference here in Asia? :)'.\n",
    " '@Cecilie_Hell @420evilangel @wazimotometal @durooooooo @spigranty Good for u. better change it to lollipop 🍭 :).'.\n",
    " 'We &lt;3 u Nez :) #AGNEZMO https://t.co/cGViMHSINz'.\n",
    " '@LittleMix Follow me Please :)  This is my Big Dream :)'.\n",
    " '@Elemaaan  oley be :D'.\n",
    " '\"@CowokAddict: Mama is the only reason why I stand stronger up to now! :)\"'.\n",
    " '@MacatangayApril  follow @jnlazts &amp; http://t.co/RCvcYYO0Iq follow u back :)'.\n",
    " '@tk_kjk_kndr @boukendreamer OH MY GOD MISTY. MY BABY IS SO CUTE!!! :D'.\n",
    " '@BhaktisBanter \\n\\nI love blue :)\\n#FlipkartFashionFriday http://t.co/HnbinH35ES'.\n",
    " \"@CarcassDrop Woohoo! Can't wait :) Have you signed up yet. or still thinking about it? MKa\".\n",
    " 'i have liam access now :))'.\n",
    " '@SyuhxdxTengku most welcome :)'.\n",
    " 'Stats for the day have arrived. 1 new follower and NO unfollowers :) via http://t.co/p6K6SiH58a.'.\n",
    " \"@sluttywife2 you shouldn't be surprised...you have an amazing figure :)\".\n",
    " '#FollowFriday @murtishaw @aqui_fr @FRTechStartups for being top influencers in my community this week :)'.\n",
    " '#HappyBirthdayEmilyBett @emilybett :) Wishing you all the best you beautiful.sweet.talented.amazing… https://t.co/humtC1tr3I'.\n",
    " '2 plans for the day down the drain great :):'.\n",
    " '@x123456789tine @5SOS_FAHUpdates gotta love timezones :p'.\n",
    " 'are your parents proud of you — lol. not in the least :D maybe sometimes they get happy because of my grades. al... http://t.co/bJjeGIOOGU'.\n",
    " 'Grande :)  https://t.co/gsaaxNpR8u'.\n",
    " 'Manila_bro has chosen to follow me on Twitter! http://t.co/lKXZWXN1fb. Thanks for the follow :)'.\n",
    " \"@syazwanzainal sure let me know when you're around..at this side of the world #eh u too take care :-)\".\n",
    " '#FollowFriday @michae1green @superninjaalan @Doug_Laney for being top new followers in my community this week :)'.\n",
    " 'finally the fucking weekend :)'.\n",
    " 'REAL :)'.\n",
    " '@LoLEsportspedia thanks :D'.\n",
    " 'Hi BAM ! @BarsAndMelody \\nCan you follow my bestfriend @969Horan696 ? \\nShe loves you a lot :) \\nSee you in Warsaw &lt;3 \\nLove you &lt;3 x45'.\n",
    " 'YES! I Joined #HushedCallWithFraydoe for a call &amp; gift from @_Fraydoe &lt;3 Gotta Get @HushedApp :D http://t.co/VaLVe8omdT'.\n",
    " '@YasLarry yeahhh :)'.\n",
    " 'can I DM you &amp; make your night better :)))'.\n",
    " 'just joined the #HushedPinWithSammy Event :D Might get to Text with @SammyWilk for a day! Luv U @HushedApp http://t.co/kGfgawdHy9'.\n",
    " 'Would really appreciate it if you share this video around :) https://t.co/MhK3B3wOpQ'.\n",
    " 'Hello :) Get Youth Job Opportunities follow &gt;&gt; @tolajobjobs @xhebenkewu_9920'.\n",
    " '@TomParker oh wow!! That is beautiful tom :)'.\n",
    " 'Love You @darlingIXHAI22 @SyreenAnne :)) https://t.co/wx7yRrE7sV'.\n",
    " 'I added a video to a @YouTube playlist http://t.co/HVVPhSYakA im back on twitch and today it going to be league :) - 1 / 3'.\n",
    " '#FollowFriday @AmericanOGrain @PecomeP @APaulicand for being top supports in my community this week :)'.\n",
    " '@ZaynZaynmalik30  follow @jnlazts &amp; http://t.co/RCvcYYO0Iq follow u back :)'.\n",
    " \"Gym Monday can't wait :). Likes\".\n",
    " \"@HarNiLiZaLouis Hey. here's your invite to join Scope as an influencer :)  http://t.co/rZgZtQ2fJT\".\n",
    " 'Those friends know themselves :)'.\n",
    " 'waiting for nudes :-)'.\n",
    " '@JacobWhitesides go sleep u ! :)))))))))'.\n",
    " 'Stats for the day have arrived. 1 new follower and NO unfollowers :) via http://t.co/RB8pMNgMEo.'.\n",
    " 'My birthday is a week today! :D'.\n",
    " \"@metalgear_jp @Kojima_Hideo I want you're T-shirts ! They are so cool ! :D\".\n",
    " '@AxeRade haw phela if am not looking like Mom obviously am looking like him :)'.\n",
    " '@zaynmalik prince charming on stage :) x https://t.co/OnVFhzt5fZ'.\n",
    " 'i have really good luck :)'.\n",
    " 'Stats for the day have arrived. 1 new follower and NO unfollowers :) via http://t.co/XzsOGaC4zK.'.\n",
    " '#FollowFriday @straz_das @DCarsonCPA @GH813600 for being top engaged members in my community this week :)'.\n",
    " '@twentyonepilots @fujirock_jp tylers hipster glasses :D'.\n",
    " '@MartyRafenstein \\n\\nHey Marty !! Glad to see on Twitter. :)'.\n",
    " '@UKBusinessLunch Hi we will be joining you again today :)'.\n",
    " '@LAfitnessUKhelp done thanks :-)'.\n",
    " 'Its already afternoon. lets read Al Kahfi before the day finish :)'.\n",
    " 'OhmyG! yaya dub @mainedcm im done doing to stalk your ig accnt.. GONDOOO MOO TOLOGOOO :) HAHA'.\n",
    " \"@rozbabes Here's your invite to become a Scope influencer :) Details here: http://t.co/ipJ2yOiGet\".\n",
    " '#FollowFriday @NGourd @Locita @D_Robert_Kelly for being top influencers in my community this week :)'.\n",
    " '@kevinthewhippet @Cassie_Spaniel @Bracken_Nelson @BellisimoBella1 @SpanielHarry thanks :) zzz xx'.\n",
    " 'Physiotherapy Friday is my hashtag for today. Custom! :-)'.\n",
    " '@Cjlopez21 you know I will 💪 Monica and I miss you to. yeah sounds good to me :)'.\n",
    " '\"Good morning. beautiful :)\" That\\'s all it takes.'.\n",
    " 'Hi BAM ! @BarsAndMelody \\nCan you follow my bestfriend @969Horan696 ? \\nShe loves you a lot :) \\nSee you in Warsaw &lt;3 \\nLove you &lt;3 x43'.\n",
    " '@MandaScapinello oh yeah?? I am definitely going to try it tonight then! :) we took your advice too! We are in Treviso now!'.\n",
    " '@morallosanthony  follow @jnlazts &amp; http://t.co/RCvcYYO0Iq follow u back :)'.\n",
    " \"@NIKKIERIOZZI Hi! Would you like an @imPastel concert? Let me know your city and country and I'll start working on it! Thanks :)\".\n",
    " 'Fine. \\n...Have a gorgeous Friday. friend!!..; xo..-:)) https://t.co/JmpkZP2DaI'.\n",
    " 'Oven roasted garlic in olive oil. sun dried tomatoes. some dried basil. and century tuna :) https://t.co/EsCc9QhLob'.\n",
    " '@HostMyOffice @NigelPWhittaker @lemezma @TWBC_Business @_TheBunkerJL Right back atchya!  Have a great day everyone :)'.\n",
    " \"@TeamTall17 @FlashHayer  but doesn't even follow back :-)\".\n",
    " 'The future is almost here then :) https://t.co/rolE3ZCL97'.\n",
    " '#FollowFriday @Michelploria @MyFrenchCity @jasoncreation for being top new followers in my community this week :)'.\n",
    " 'No chance :)'.\n",
    " '@ChiAB2486 @MrCliveC @PCDKirkwood @DC_ARVSgt @COPS_President @EmWilliamsCCCU @LauraRGallagher @Hall11Kate @LaMinx541 @JohnTarbet71 cheers :)'.\n",
    " '@thatguycalledP go po for ice cream :))'.\n",
    " '@19strawberry66 I agree 100% :)'.\n",
    " '@SpazzyTsukihara hehehehe thats the point :p'.\n",
    " '@KalinWhite next time just stay home :)'.\n",
    " '@Gculloty87 thanks :)'.\n",
    " '#FollowFriday @digitalplace2be @intlboost @_lafontpresse for being top supports in my community this week :)'.\n",
    " '@stayfaboo it will be up soon. i promise :)'.\n",
    " 'Web Whatsapp volta a funcionar com iPhone jailbroken. :-)'.\n",
    " '@crustyolddeen (I plan on watching it later) at 34 mins Leia appears as a hologram from R2D2 w a message for Obi Wan as he sits w Luke :)'.\n",
    " '@Mburu__ Inter 3 UCL. Arsenal... Small team. Right! :)'.\n",
    " 'Just passing by :) 🚂 (@ Dewsbury Railway Station (DEW) - @nationalrailenq in Dewsbury. West Yorkshire) https://t.co/DvBssHbrfx'.\n",
    " '@ClearlyArticle :) its 430 am smh'.\n",
    " \"@uptommosass it's 9:25 am here :) I live in Scotland :) it's strange to imagine what?- Megan xx\".\n",
    " '@bookmyshow \\n\\n !\\n#MasaanToday\\n#MasaanToday\\n\\nA4.... Shweta Tripathi  \\n !\\n#MasaanToday\\n#MasaanToday\\n\\n-.:-) .-...'.\n",
    " '@WforWoman 5. Over 20 W kurtas! And my Mom has about half the number I have :D #WSaleLove'.\n",
    " 'Ah! Hello back Larry! @TransworldBooks :) https://t.co/8XhjJb4jtH'.\n",
    " 'Anyway my Friday is looking kinda gooood :)'.\n",
    " '@jhun_hunyo  follow @jnlazts &amp; http://t.co/RCvcYYO0Iq follow u back :)'.\n",
    " \"Lol. Well. That's life :) thank God it enn you  https://t.co/GLoCEIjGQQ\".\n",
    " '@OJBJ @holmesjsamuel surely this could be your warmup this morning ??? Coming on 15th to Bath :) xx'.\n",
    " \"Dum Dum Andar - Ram Sampath. Sona Mohapatra &amp; Samantha Edwards Mein Tulane to razi razi. Wah! That's Josh :) http://t.co/ul8MARDfhm\".\n",
    " '@justinbieber :) always smile'.\n",
    " '@darlakim_ picture. :)'.\n",
    " \"@arsenalnewsasit Thanks again. your time 16.20 right? That's perfect timing for me here :).\".\n",
    " '#FollowFriday @IzywayLesExpats @na4innov @InXpressCoAzur for being top engaged members in my community this week :)'.\n",
    " '@Juleeyaanaa i know :))'.\n",
    " '#GiveItUp We have already given up our gas subsidy long back when this initiative was proposed.. Feeling so delighted having done that!! :)'.\n",
    " '@dayloladay I missed this yesterday!! :-)'.\n",
    " 'Hi BAM ! @BarsAndMelody \\nCan you follow my bestfriend @969Horan696 ? \\nShe loves you a lot :) \\nSee you in Warsaw &lt;3 \\nLove you &lt;3 x42'.\n",
    " '@jaimeemelanie_ lmaoo! The best songs ever &lt;3 We shall have our own little throwback this week (y) :p'.\n",
    " '@Clazziebritchas then go to the outlying islands. such as Cheung Chau. Mui Wo....totally different :))'.\n",
    " \"#KFCkitchentours Kitchen is so clean. I'm totally amazed :) @KFC_India\".\n",
    " '@cybelxxx  follow @jnlazts &amp; http://t.co/RCvcYYO0Iq follow u back :)'.\n",
    " '@Jana7380 on the cusp of testing the waters. hope yours is rewarding :)'.\n",
    " '#FollowFriday @BroadcastBeat @InSunWeTrust @conseilsmkg for being top influencers in my community this week :)'.\n",
    " \"arummzz: Let's go... I'll drive for you :p\\n\\n#traveling #traveler #yogyakarta #jeep #Indonesia #instamood… https://t.co/s7y4Ys5JeU\".\n",
    " 'Anyone wanna skype me? :D'.\n",
    " '@agylyxa may i look so. bit i am a real nice friendly girl :-)'.\n",
    " 'Im not like them. But i can pretend~ :)'.\n",
    " 'watching where we are concert film :)'.\n",
    " \"Congratulations @amisharanka95. you're the winner to our #CheesyDelights contest :)\\nPlease DM us your address and contact number!\".\n",
    " ':) Have a great weekend guys! https://t.co/DLDKLpeTAb'.\n",
    " '#FollowFriday @CLARAROJASG @BF_P2C @MyBusiness_Plan for being top new followers in my community this week :)'.\n",
    " '@PuaMagasiva it was cool seeing you film today! :)'.\n",
    " \"Check out Email Marketing 24/7:  http://t.co/O5fjR7oEqk you won't regret if you buy it :)\".\n",
    " '@vineshpomal LOL. Come join us ... See u in around 14 hours if u leave now. without delays. :)'.\n",
    " \"Actually very easy doing like this. it must be a station I guess where the train 'wd take at least an hour for shifting its engine etc :-)\".\n",
    " 'sunburn is peeling :-)'.\n",
    " '@Sexdate_gratis Visit my blog http://t.co/UzOAqroWKx thanks :D'.\n",
    " \"@TikoSD Hi! Would you like an @imPastel concert? Let me know your city and country and I'll start working on it! Thanks :)\".\n",
    " '@no1_razorstan then talk to me. I can help you :)'.\n",
    " '\"@CassTheTrainer: A Huge &amp; Warm Welcome to @VodkaBlond :-))\"\\n\\n☆ finally we complete the triangle ! ☆'.\n",
    " '@LucienneDiver I live in Northern Ireland. :) what sights have you seen?'.\n",
    " '@Mecastor01Mica  follow @jnlazts &amp; http://t.co/RCvcYYO0Iq follow u back :)'.\n",
    " '#FollowFriday @Z_Intl_Agency @Tivipro @compexly for being top supports in my community this week :)'.\n",
    " 'Stats for the day have arrived. 1 new follower and NO unfollowers :) via http://t.co/6prugvmOuC.'.\n",
    " '@imraina feeling smthng smthng fr u...lol...wanna hug u....XOXO...love uu jaann take care :* :)) &lt;3 :\")'.\n",
    " 'thanks mom :)'\"\"\"\n",
    "\n",
    "#sent=nltk.sent_tokenize(my_data)\n",
    "#print(sent)\n",
    "\n",
    "# Tag tagged tweets\n",
    "tweets_tagged = nltk.pos_tag(nltk.word_tokenize(my_data))\n",
    "#print(tweets_tagged)\n",
    "\n",
    "# Set accumulators\n",
    "JJ_count = 0\n",
    "NN_count = 0\n",
    "VB_count = 0\n",
    "DT_count=0\n",
    "\n",
    "NN_list=set()\n",
    "\n",
    "# Loop through list of tweets\n",
    "for pair in tweets_tagged:\n",
    "    tag = pair[1]\n",
    "    if tag in('JJ','JJR','JJS'):\n",
    "        JJ_count += 1\n",
    "    elif tag in ('NN', 'NNP','NNS','NNPS'):\n",
    "        NN_count += 1\n",
    "        NN_list.add(pair[0])\n",
    "    elif tag in ('VB','VBG','VBD','VBN','VBP','VBZ'):\n",
    "        VB_count += 1\n",
    "    elif tag == 'DT':\n",
    "        DT_count +=1\n",
    "\n",
    "# Print total numbers for each adjectives and nouns\n",
    "print('Total number of adjectives = ', JJ_count)\n",
    "print('Total number of nouns = ', NN_count)\n",
    "print('Total number of verbs = ', VB_count)\n",
    "print('Total number of determinants = ', DT_count)\n",
    "print(NN_list)\n"
   ]
  },
  {
   "cell_type": "code",
   "execution_count": null,
   "metadata": {},
   "outputs": [],
   "source": []
  }
 ],
 "metadata": {
  "kernelspec": {
   "display_name": "Python 3",
   "language": "python",
   "name": "python3"
  },
  "language_info": {
   "codemirror_mode": {
    "name": "ipython",
    "version": 3
   },
   "file_extension": ".py",
   "mimetype": "text/x-python",
   "name": "python",
   "nbconvert_exporter": "python",
   "pygments_lexer": "ipython3",
   "version": "3.8.5"
  }
 },
 "nbformat": 4,
 "nbformat_minor": 2
}
