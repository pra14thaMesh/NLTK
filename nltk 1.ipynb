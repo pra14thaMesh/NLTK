{
 "cells": [
  {
   "cell_type": "code",
   "execution_count": 13,
   "metadata": {},
   "outputs": [],
   "source": [
    "import requests\n",
    "from bs4 import BeautifulSoup"
   ]
  },
  {
   "cell_type": "code",
   "execution_count": 19,
   "metadata": {},
   "outputs": [
    {
     "name": "stdout",
     "output_type": "stream",
     "text": [
      "<div class=\"tombstone-container\">\n",
      " <p class=\"period-name\">\n",
      "  Today\n",
      "  <br/>\n",
      "  <br/>\n",
      " </p>\n",
      " <p>\n",
      "  <img alt=\"Today: Sunny, with a high near 89. Light and variable wind becoming south southeast around 5 mph. \" class=\"forecast-icon\" src=\"newimages/medium/few.png\" title=\"Today: Sunny, with a high near 89. Light and variable wind becoming south southeast around 5 mph. \"/>\n",
      " </p>\n",
      " <p class=\"short-desc\">\n",
      "  Sunny\n",
      " </p>\n",
      " <p class=\"temp temp-high\">\n",
      "  High: 89 °F\n",
      " </p>\n",
      "</div>\n"
     ]
    }
   ],
   "source": [
    "#creating the object to hold to page source content\n",
    "page = requests.get(\"https://forecast.weather.gov/MapClick.php?lat=37.7772&lon=-122.4168#.XpLOY8gzbcc\")\n",
    "#print(page)\n",
    "\n",
    "\n",
    "#creating an object to store the page source in proper html format\n",
    "soup = BeautifulSoup(page.content, 'html.parser')\n",
    "#print(soup)\n",
    "\n",
    "#storing page source belonging to a prticular id tag on the page\n",
    "seven_day = soup.find(id=\"seven-day-forecast\")\n",
    "#print(seven_day)\n",
    "\n",
    "#finding all instances of a particular class tag within the id and storing it to object\n",
    "forecast_items = seven_day.find_all(class_=\"tombstone-container\")\n",
    "#print(forecast_items)\n",
    "\n",
    "tonight = forecast_items[0]\n",
    "print(tonight.prettify())\n"
   ]
  },
  {
   "cell_type": "code",
   "execution_count": 20,
   "metadata": {},
   "outputs": [
    {
     "name": "stdout",
     "output_type": "stream",
     "text": [
      "Today\n",
      "Sunny\n",
      "High: 89 °F\n"
     ]
    }
   ],
   "source": [
    "#extracting the values of sub tags\n",
    "period = tonight.find(class_=\"period-name\").get_text()\n",
    "short_desc = tonight.find(class_=\"short-desc\").get_text()\n",
    "temp = tonight.find(class_=\"temp temp-high\").get_text()\n",
    "\n",
    "print(period)\n",
    "print(short_desc)\n",
    "print(temp)"
   ]
  },
  {
   "cell_type": "code",
   "execution_count": 21,
   "metadata": {},
   "outputs": [
    {
     "name": "stdout",
     "output_type": "stream",
     "text": [
      "Today: Sunny, with a high near 89. Light and variable wind becoming south southeast around 5 mph. \n"
     ]
    }
   ],
   "source": [
    "#extracting the title part of the img tag\n",
    "img = tonight.find(\"img\")\n",
    "desc = img['title']\n",
    "\n",
    "print(desc)"
   ]
  },
  {
   "cell_type": "code",
   "execution_count": 22,
   "metadata": {
    "scrolled": true
   },
   "outputs": [
    {
     "name": "stdout",
     "output_type": "stream",
     "text": [
      "['Today', 'Tonight', 'Friday', 'FridayNight', 'Saturday', 'SaturdayNight', 'Sunday', 'SundayNight', 'Monday']\n"
     ]
    }
   ],
   "source": [
    "#extracting all values for the period tag from the entire object\n",
    "period_tags = seven_day.select(\".tombstone-container .period-name\")\n",
    "periods = [pt.get_text() for pt in period_tags]\n",
    "print(periods)"
   ]
  },
  {
   "cell_type": "code",
   "execution_count": 28,
   "metadata": {
    "collapsed": true
   },
   "outputs": [
    {
     "data": {
      "text/plain": [
       "[<p class=\"period-name\">Today<br/><br/></p>,\n",
       " <p class=\"period-name\">Tonight<br/><br/></p>,\n",
       " <p class=\"period-name\">Friday<br/><br/></p>,\n",
       " <p class=\"period-name\">Friday<br/>Night</p>,\n",
       " <p class=\"period-name\">Saturday<br/><br/></p>,\n",
       " <p class=\"period-name\">Saturday<br/>Night</p>,\n",
       " <p class=\"period-name\">Sunday<br/><br/></p>,\n",
       " <p class=\"period-name\">Sunday<br/>Night</p>,\n",
       " <p class=\"period-name\">Monday<br/><br/></p>]"
      ]
     },
     "execution_count": 28,
     "metadata": {},
     "output_type": "execute_result"
    }
   ],
   "source": [
    "period_tags"
   ]
  },
  {
   "cell_type": "code",
   "execution_count": null,
   "metadata": {},
   "outputs": [],
   "source": []
  },
  {
   "cell_type": "code",
   "execution_count": 29,
   "metadata": {
    "collapsed": true
   },
   "outputs": [
    {
     "name": "stdout",
     "output_type": "stream",
     "text": [
      "['Sunny', 'Mostly Clear', 'Sunny', 'Mostly Clear', 'Sunny', 'Mostly Clear', 'Mostly Sunny', 'Partly Cloudy', 'Mostly Sunny']\n",
      "\n",
      "['High: 89 °F', 'Low: 64 °F', 'High: 92 °F', 'Low: 62 °F', 'High: 82 °F', 'Low: 58 °F', 'High: 75 °F', 'Low: 56 °F', 'High: 70 °F']\n",
      "\n",
      "['Today: Sunny, with a high near 89. Light and variable wind becoming south southeast around 5 mph. ', 'Tonight: Mostly clear, with a low around 64. West wind 5 to 7 mph becoming calm  in the evening. ', 'Friday: Sunny, with a high near 92. Light and variable wind. ', 'Friday Night: Mostly clear, with a low around 62. West wind 5 to 9 mph becoming calm  in the evening. ', 'Saturday: Sunny, with a high near 82. Calm wind becoming south southeast around 5 mph in the afternoon. ', 'Saturday Night: Mostly clear, with a low around 58.', 'Sunday: Mostly sunny, with a high near 75.', 'Sunday Night: Partly cloudy, with a low around 56.', 'Monday: Mostly sunny, with a high near 70.']\n"
     ]
    }
   ],
   "source": [
    "#similarly extracting the other tags also from the entire object\n",
    "short_descs = [sd.get_text() for sd in seven_day.select(\".tombstone-container .short-desc\")]\n",
    "temps = [t.get_text() for t in seven_day.select(\".tombstone-container .temp\")]\n",
    "descs = [d[\"title\"] for d in seven_day.select(\".tombstone-container img\")]\n",
    "print(short_descs)\n",
    "print()\n",
    "print(temps)\n",
    "print()\n",
    "print(descs)"
   ]
  },
  {
   "cell_type": "code",
   "execution_count": 30,
   "metadata": {
    "scrolled": true
   },
   "outputs": [
    {
     "data": {
      "text/html": [
       "<div>\n",
       "<style scoped>\n",
       "    .dataframe tbody tr th:only-of-type {\n",
       "        vertical-align: middle;\n",
       "    }\n",
       "\n",
       "    .dataframe tbody tr th {\n",
       "        vertical-align: top;\n",
       "    }\n",
       "\n",
       "    .dataframe thead th {\n",
       "        text-align: right;\n",
       "    }\n",
       "</style>\n",
       "<table border=\"1\" class=\"dataframe\">\n",
       "  <thead>\n",
       "    <tr style=\"text-align: right;\">\n",
       "      <th></th>\n",
       "      <th>period</th>\n",
       "      <th>short_desc</th>\n",
       "      <th>temp</th>\n",
       "      <th>desc</th>\n",
       "    </tr>\n",
       "  </thead>\n",
       "  <tbody>\n",
       "    <tr>\n",
       "      <th>0</th>\n",
       "      <td>Today</td>\n",
       "      <td>Sunny</td>\n",
       "      <td>High: 89 °F</td>\n",
       "      <td>Today: Sunny, with a high near 89. Light and v...</td>\n",
       "    </tr>\n",
       "    <tr>\n",
       "      <th>1</th>\n",
       "      <td>Tonight</td>\n",
       "      <td>Mostly Clear</td>\n",
       "      <td>Low: 64 °F</td>\n",
       "      <td>Tonight: Mostly clear, with a low around 64. W...</td>\n",
       "    </tr>\n",
       "    <tr>\n",
       "      <th>2</th>\n",
       "      <td>Friday</td>\n",
       "      <td>Sunny</td>\n",
       "      <td>High: 92 °F</td>\n",
       "      <td>Friday: Sunny, with a high near 92. Light and ...</td>\n",
       "    </tr>\n",
       "    <tr>\n",
       "      <th>3</th>\n",
       "      <td>FridayNight</td>\n",
       "      <td>Mostly Clear</td>\n",
       "      <td>Low: 62 °F</td>\n",
       "      <td>Friday Night: Mostly clear, with a low around ...</td>\n",
       "    </tr>\n",
       "    <tr>\n",
       "      <th>4</th>\n",
       "      <td>Saturday</td>\n",
       "      <td>Sunny</td>\n",
       "      <td>High: 82 °F</td>\n",
       "      <td>Saturday: Sunny, with a high near 82. Calm win...</td>\n",
       "    </tr>\n",
       "    <tr>\n",
       "      <th>5</th>\n",
       "      <td>SaturdayNight</td>\n",
       "      <td>Mostly Clear</td>\n",
       "      <td>Low: 58 °F</td>\n",
       "      <td>Saturday Night: Mostly clear, with a low aroun...</td>\n",
       "    </tr>\n",
       "    <tr>\n",
       "      <th>6</th>\n",
       "      <td>Sunday</td>\n",
       "      <td>Mostly Sunny</td>\n",
       "      <td>High: 75 °F</td>\n",
       "      <td>Sunday: Mostly sunny, with a high near 75.</td>\n",
       "    </tr>\n",
       "    <tr>\n",
       "      <th>7</th>\n",
       "      <td>SundayNight</td>\n",
       "      <td>Partly Cloudy</td>\n",
       "      <td>Low: 56 °F</td>\n",
       "      <td>Sunday Night: Partly cloudy, with a low around...</td>\n",
       "    </tr>\n",
       "    <tr>\n",
       "      <th>8</th>\n",
       "      <td>Monday</td>\n",
       "      <td>Mostly Sunny</td>\n",
       "      <td>High: 70 °F</td>\n",
       "      <td>Monday: Mostly sunny, with a high near 70.</td>\n",
       "    </tr>\n",
       "  </tbody>\n",
       "</table>\n",
       "</div>"
      ],
      "text/plain": [
       "          period     short_desc         temp  \\\n",
       "0          Today          Sunny  High: 89 °F   \n",
       "1        Tonight   Mostly Clear   Low: 64 °F   \n",
       "2         Friday          Sunny  High: 92 °F   \n",
       "3    FridayNight   Mostly Clear   Low: 62 °F   \n",
       "4       Saturday          Sunny  High: 82 °F   \n",
       "5  SaturdayNight   Mostly Clear   Low: 58 °F   \n",
       "6         Sunday   Mostly Sunny  High: 75 °F   \n",
       "7    SundayNight  Partly Cloudy   Low: 56 °F   \n",
       "8         Monday   Mostly Sunny  High: 70 °F   \n",
       "\n",
       "                                                desc  \n",
       "0  Today: Sunny, with a high near 89. Light and v...  \n",
       "1  Tonight: Mostly clear, with a low around 64. W...  \n",
       "2  Friday: Sunny, with a high near 92. Light and ...  \n",
       "3  Friday Night: Mostly clear, with a low around ...  \n",
       "4  Saturday: Sunny, with a high near 82. Calm win...  \n",
       "5  Saturday Night: Mostly clear, with a low aroun...  \n",
       "6         Sunday: Mostly sunny, with a high near 75.  \n",
       "7  Sunday Night: Partly cloudy, with a low around...  \n",
       "8         Monday: Mostly sunny, with a high near 70.  "
      ]
     },
     "execution_count": 30,
     "metadata": {},
     "output_type": "execute_result"
    }
   ],
   "source": [
    "#combining all tags and creating a dataframe out of it\n",
    "import pandas as pd\n",
    "weather = pd.DataFrame({\n",
    "        \"period\": periods,\n",
    "         \"short_desc\": short_descs,\n",
    "         \"temp\": temps,\n",
    "         \"desc\":descs\n",
    "    })\n",
    "weather"
   ]
  },
  {
   "cell_type": "code",
   "execution_count": 31,
   "metadata": {
    "collapsed": true
   },
   "outputs": [
    {
     "name": "stdout",
     "output_type": "stream",
     "text": [
      "                0                                                  1\n",
      "0           Today  Sunny, with a high near 89. Light and variable...\n",
      "1         Tonight  Mostly clear, with a low around 64. West wind ...\n",
      "2          Friday  Sunny, with a high near 92. Light and variable...\n",
      "3    Friday Night  Mostly clear, with a low around 62. West wind ...\n",
      "4        Saturday  Sunny, with a high near 82. Calm wind becoming...\n",
      "5  Saturday Night                Mostly clear, with a low around 58.\n",
      "6          Sunday                 Mostly sunny, with a high near 75.\n",
      "7    Sunday Night               Partly cloudy, with a low around 56.\n",
      "8          Monday                 Mostly sunny, with a high near 70.\n"
     ]
    }
   ],
   "source": [
    "#desc has the text that contains the value of period also\n",
    "#trying to split the desc string such that the period part is removed\n",
    "new = weather[\"desc\"].str.split(\": \",expand=True) \n",
    "print(new)"
   ]
  },
  {
   "cell_type": "code",
   "execution_count": 32,
   "metadata": {},
   "outputs": [],
   "source": [
    "#fetching the other part and replacing the desc variable \n",
    "weather[\"desc\"]=new[1]"
   ]
  },
  {
   "cell_type": "code",
   "execution_count": 33,
   "metadata": {
    "scrolled": false
   },
   "outputs": [
    {
     "data": {
      "text/html": [
       "<div>\n",
       "<style scoped>\n",
       "    .dataframe tbody tr th:only-of-type {\n",
       "        vertical-align: middle;\n",
       "    }\n",
       "\n",
       "    .dataframe tbody tr th {\n",
       "        vertical-align: top;\n",
       "    }\n",
       "\n",
       "    .dataframe thead th {\n",
       "        text-align: right;\n",
       "    }\n",
       "</style>\n",
       "<table border=\"1\" class=\"dataframe\">\n",
       "  <thead>\n",
       "    <tr style=\"text-align: right;\">\n",
       "      <th></th>\n",
       "      <th>period</th>\n",
       "      <th>short_desc</th>\n",
       "      <th>temp</th>\n",
       "      <th>desc</th>\n",
       "    </tr>\n",
       "  </thead>\n",
       "  <tbody>\n",
       "    <tr>\n",
       "      <th>0</th>\n",
       "      <td>Today</td>\n",
       "      <td>Sunny</td>\n",
       "      <td>High: 89 °F</td>\n",
       "      <td>Sunny, with a high near 89. Light and variable...</td>\n",
       "    </tr>\n",
       "    <tr>\n",
       "      <th>1</th>\n",
       "      <td>Tonight</td>\n",
       "      <td>Mostly Clear</td>\n",
       "      <td>Low: 64 °F</td>\n",
       "      <td>Mostly clear, with a low around 64. West wind ...</td>\n",
       "    </tr>\n",
       "    <tr>\n",
       "      <th>2</th>\n",
       "      <td>Friday</td>\n",
       "      <td>Sunny</td>\n",
       "      <td>High: 92 °F</td>\n",
       "      <td>Sunny, with a high near 92. Light and variable...</td>\n",
       "    </tr>\n",
       "    <tr>\n",
       "      <th>3</th>\n",
       "      <td>FridayNight</td>\n",
       "      <td>Mostly Clear</td>\n",
       "      <td>Low: 62 °F</td>\n",
       "      <td>Mostly clear, with a low around 62. West wind ...</td>\n",
       "    </tr>\n",
       "    <tr>\n",
       "      <th>4</th>\n",
       "      <td>Saturday</td>\n",
       "      <td>Sunny</td>\n",
       "      <td>High: 82 °F</td>\n",
       "      <td>Sunny, with a high near 82. Calm wind becoming...</td>\n",
       "    </tr>\n",
       "    <tr>\n",
       "      <th>5</th>\n",
       "      <td>SaturdayNight</td>\n",
       "      <td>Mostly Clear</td>\n",
       "      <td>Low: 58 °F</td>\n",
       "      <td>Mostly clear, with a low around 58.</td>\n",
       "    </tr>\n",
       "    <tr>\n",
       "      <th>6</th>\n",
       "      <td>Sunday</td>\n",
       "      <td>Mostly Sunny</td>\n",
       "      <td>High: 75 °F</td>\n",
       "      <td>Mostly sunny, with a high near 75.</td>\n",
       "    </tr>\n",
       "    <tr>\n",
       "      <th>7</th>\n",
       "      <td>SundayNight</td>\n",
       "      <td>Partly Cloudy</td>\n",
       "      <td>Low: 56 °F</td>\n",
       "      <td>Partly cloudy, with a low around 56.</td>\n",
       "    </tr>\n",
       "    <tr>\n",
       "      <th>8</th>\n",
       "      <td>Monday</td>\n",
       "      <td>Mostly Sunny</td>\n",
       "      <td>High: 70 °F</td>\n",
       "      <td>Mostly sunny, with a high near 70.</td>\n",
       "    </tr>\n",
       "  </tbody>\n",
       "</table>\n",
       "</div>"
      ],
      "text/plain": [
       "          period     short_desc         temp  \\\n",
       "0          Today          Sunny  High: 89 °F   \n",
       "1        Tonight   Mostly Clear   Low: 64 °F   \n",
       "2         Friday          Sunny  High: 92 °F   \n",
       "3    FridayNight   Mostly Clear   Low: 62 °F   \n",
       "4       Saturday          Sunny  High: 82 °F   \n",
       "5  SaturdayNight   Mostly Clear   Low: 58 °F   \n",
       "6         Sunday   Mostly Sunny  High: 75 °F   \n",
       "7    SundayNight  Partly Cloudy   Low: 56 °F   \n",
       "8         Monday   Mostly Sunny  High: 70 °F   \n",
       "\n",
       "                                                desc  \n",
       "0  Sunny, with a high near 89. Light and variable...  \n",
       "1  Mostly clear, with a low around 64. West wind ...  \n",
       "2  Sunny, with a high near 92. Light and variable...  \n",
       "3  Mostly clear, with a low around 62. West wind ...  \n",
       "4  Sunny, with a high near 82. Calm wind becoming...  \n",
       "5                Mostly clear, with a low around 58.  \n",
       "6                 Mostly sunny, with a high near 75.  \n",
       "7               Partly cloudy, with a low around 56.  \n",
       "8                 Mostly sunny, with a high near 70.  "
      ]
     },
     "execution_count": 33,
     "metadata": {},
     "output_type": "execute_result"
    }
   ],
   "source": [
    "#updated dataframe\n",
    "weather"
   ]
  },
  {
   "cell_type": "code",
   "execution_count": null,
   "metadata": {},
   "outputs": [],
   "source": [
    "weather.to_excel(\"weather_details.xlsx\",header=True)"
   ]
  },
  {
   "cell_type": "code",
   "execution_count": null,
   "metadata": {},
   "outputs": [],
   "source": []
  },
  {
   "cell_type": "code",
   "execution_count": null,
   "metadata": {},
   "outputs": [],
   "source": []
  }
 ],
 "metadata": {
  "kernelspec": {
   "display_name": "Python 3",
   "language": "python",
   "name": "python3"
  },
  "language_info": {
   "codemirror_mode": {
    "name": "ipython",
    "version": 3
   },
   "file_extension": ".py",
   "mimetype": "text/x-python",
   "name": "python",
   "nbconvert_exporter": "python",
   "pygments_lexer": "ipython3",
   "version": "3.8.5"
  }
 },
 "nbformat": 4,
 "nbformat_minor": 2
}
